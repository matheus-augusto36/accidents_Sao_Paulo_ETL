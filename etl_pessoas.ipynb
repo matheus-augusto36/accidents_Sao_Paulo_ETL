{
 "cells": [
  {
   "cell_type": "code",
   "execution_count": 34,
   "id": "1d472660",
   "metadata": {},
   "outputs": [],
   "source": [
    "import pandas as pd\n",
    "import numpy as np"
   ]
  },
  {
   "cell_type": "code",
   "execution_count": 35,
   "id": "463d40a2",
   "metadata": {},
   "outputs": [],
   "source": [
    "def percentual_valor(df, coluna, valor):\n",
    "    total = len(df[coluna])\n",
    "    ocorrencias = (df[coluna] == valor).sum()\n",
    "    percentual = (ocorrencias / total) * 100\n",
    "    return round(percentual, 2)\n"
   ]
  },
  {
   "cell_type": "code",
   "execution_count": 36,
   "id": "73e04c7b",
   "metadata": {},
   "outputs": [],
   "source": [
    "df_pessoas = pd.read_excel('../Formato Novo/pessoas_2022-2025.xlsx')"
   ]
  },
  {
   "cell_type": "code",
   "execution_count": 37,
   "id": "75a07aeb",
   "metadata": {},
   "outputs": [],
   "source": [
    "pd.set_option('display.max_columns', None)"
   ]
  },
  {
   "cell_type": "code",
   "execution_count": 38,
   "id": "33f6455b",
   "metadata": {},
   "outputs": [
    {
     "data": {
      "text/html": [
       "<div>\n",
       "<style scoped>\n",
       "    .dataframe tbody tr th:only-of-type {\n",
       "        vertical-align: middle;\n",
       "    }\n",
       "\n",
       "    .dataframe tbody tr th {\n",
       "        vertical-align: top;\n",
       "    }\n",
       "\n",
       "    .dataframe thead th {\n",
       "        text-align: right;\n",
       "    }\n",
       "</style>\n",
       "<table border=\"1\" class=\"dataframe\">\n",
       "  <thead>\n",
       "    <tr style=\"text-align: right;\">\n",
       "      <th></th>\n",
       "      <th>id_sinistro</th>\n",
       "      <th>municipio</th>\n",
       "      <th>tipo_via</th>\n",
       "      <th>tipo_veiculo_vitima</th>\n",
       "      <th>sexo</th>\n",
       "      <th>idade</th>\n",
       "      <th>data_obito</th>\n",
       "      <th>gravidade_lesao</th>\n",
       "      <th>tipo_de vítima</th>\n",
       "      <th>faixa_etaria_demografica</th>\n",
       "      <th>faixa_etaria_legal</th>\n",
       "      <th>profissao</th>\n",
       "      <th>data_sinistro</th>\n",
       "      <th>ano_sinistro</th>\n",
       "      <th>mes_sinistro</th>\n",
       "      <th>dia_sinistro</th>\n",
       "      <th>ano_mes_sinistro</th>\n",
       "      <th>ano_obito</th>\n",
       "      <th>mes_obito</th>\n",
       "      <th>dia_obito</th>\n",
       "      <th>ano_mes_obito</th>\n",
       "    </tr>\n",
       "  </thead>\n",
       "  <tbody>\n",
       "    <tr>\n",
       "      <th>0</th>\n",
       "      <td>1819301</td>\n",
       "      <td>ORIENTE</td>\n",
       "      <td>RODOVIAS</td>\n",
       "      <td>NaN</td>\n",
       "      <td>MASCULINO</td>\n",
       "      <td>35.0</td>\n",
       "      <td>NaT</td>\n",
       "      <td>LEVE</td>\n",
       "      <td>CONDUTOR</td>\n",
       "      <td>35 a 39</td>\n",
       "      <td>35-39</td>\n",
       "      <td>CONFERENTE</td>\n",
       "      <td>2022-01-01</td>\n",
       "      <td>2022</td>\n",
       "      <td>1</td>\n",
       "      <td>1</td>\n",
       "      <td>2022/01</td>\n",
       "      <td>NaN</td>\n",
       "      <td>NaN</td>\n",
       "      <td>NaN</td>\n",
       "      <td>NaN</td>\n",
       "    </tr>\n",
       "    <tr>\n",
       "      <th>1</th>\n",
       "      <td>1473586</td>\n",
       "      <td>ILHA COMPRIDA</td>\n",
       "      <td>VIAS MUNICIPAIS</td>\n",
       "      <td>NaN</td>\n",
       "      <td>MASCULINO</td>\n",
       "      <td>43.0</td>\n",
       "      <td>NaT</td>\n",
       "      <td>NAO DISPONIVEL</td>\n",
       "      <td>CONDUTOR</td>\n",
       "      <td>40 a 44</td>\n",
       "      <td>40-44</td>\n",
       "      <td>ATENDENTE</td>\n",
       "      <td>2022-01-01</td>\n",
       "      <td>2022</td>\n",
       "      <td>1</td>\n",
       "      <td>1</td>\n",
       "      <td>2022/01</td>\n",
       "      <td>NaN</td>\n",
       "      <td>NaN</td>\n",
       "      <td>NaN</td>\n",
       "      <td>NaN</td>\n",
       "    </tr>\n",
       "    <tr>\n",
       "      <th>2</th>\n",
       "      <td>1556174</td>\n",
       "      <td>IGARAPAVA</td>\n",
       "      <td>RODOVIAS</td>\n",
       "      <td>NaN</td>\n",
       "      <td>FEMININO</td>\n",
       "      <td>27.0</td>\n",
       "      <td>NaT</td>\n",
       "      <td>LEVE</td>\n",
       "      <td>CONDUTOR</td>\n",
       "      <td>25 a 29</td>\n",
       "      <td>25-29</td>\n",
       "      <td>BIOMEDICO(A)</td>\n",
       "      <td>2022-01-01</td>\n",
       "      <td>2022</td>\n",
       "      <td>1</td>\n",
       "      <td>1</td>\n",
       "      <td>2022/01</td>\n",
       "      <td>NaN</td>\n",
       "      <td>NaN</td>\n",
       "      <td>NaN</td>\n",
       "      <td>NaN</td>\n",
       "    </tr>\n",
       "    <tr>\n",
       "      <th>3</th>\n",
       "      <td>1538224</td>\n",
       "      <td>SAO PAULO</td>\n",
       "      <td>VIAS MUNICIPAIS</td>\n",
       "      <td>NaN</td>\n",
       "      <td>MASCULINO</td>\n",
       "      <td>20.0</td>\n",
       "      <td>NaT</td>\n",
       "      <td>NAO DISPONIVEL</td>\n",
       "      <td>NAO DISPONIVEL</td>\n",
       "      <td>20 a 24</td>\n",
       "      <td>18-24</td>\n",
       "      <td>NaN</td>\n",
       "      <td>2022-01-01</td>\n",
       "      <td>2022</td>\n",
       "      <td>1</td>\n",
       "      <td>1</td>\n",
       "      <td>2022/01</td>\n",
       "      <td>NaN</td>\n",
       "      <td>NaN</td>\n",
       "      <td>NaN</td>\n",
       "      <td>NaN</td>\n",
       "    </tr>\n",
       "    <tr>\n",
       "      <th>4</th>\n",
       "      <td>1904878</td>\n",
       "      <td>LEME</td>\n",
       "      <td>VIAS MUNICIPAIS</td>\n",
       "      <td>NaN</td>\n",
       "      <td>MASCULINO</td>\n",
       "      <td>44.0</td>\n",
       "      <td>NaT</td>\n",
       "      <td>GRAVE</td>\n",
       "      <td>NAO DISPONIVEL</td>\n",
       "      <td>40 a 44</td>\n",
       "      <td>40-44</td>\n",
       "      <td>SEGURANCA</td>\n",
       "      <td>2022-01-01</td>\n",
       "      <td>2022</td>\n",
       "      <td>1</td>\n",
       "      <td>1</td>\n",
       "      <td>2022/01</td>\n",
       "      <td>NaN</td>\n",
       "      <td>NaN</td>\n",
       "      <td>NaN</td>\n",
       "      <td>NaN</td>\n",
       "    </tr>\n",
       "    <tr>\n",
       "      <th>...</th>\n",
       "      <td>...</td>\n",
       "      <td>...</td>\n",
       "      <td>...</td>\n",
       "      <td>...</td>\n",
       "      <td>...</td>\n",
       "      <td>...</td>\n",
       "      <td>...</td>\n",
       "      <td>...</td>\n",
       "      <td>...</td>\n",
       "      <td>...</td>\n",
       "      <td>...</td>\n",
       "      <td>...</td>\n",
       "      <td>...</td>\n",
       "      <td>...</td>\n",
       "      <td>...</td>\n",
       "      <td>...</td>\n",
       "      <td>...</td>\n",
       "      <td>...</td>\n",
       "      <td>...</td>\n",
       "      <td>...</td>\n",
       "      <td>...</td>\n",
       "    </tr>\n",
       "    <tr>\n",
       "      <th>888987</th>\n",
       "      <td>2608847</td>\n",
       "      <td>ITAPIRA</td>\n",
       "      <td>VIAS MUNICIPAIS</td>\n",
       "      <td>NaN</td>\n",
       "      <td>MASCULINO</td>\n",
       "      <td>31.0</td>\n",
       "      <td>NaT</td>\n",
       "      <td>NAO DISPONIVEL</td>\n",
       "      <td>CONDUTOR</td>\n",
       "      <td>30 a 34</td>\n",
       "      <td>30-34</td>\n",
       "      <td>MOTORISTA</td>\n",
       "      <td>2025-05-31</td>\n",
       "      <td>2025</td>\n",
       "      <td>5</td>\n",
       "      <td>31</td>\n",
       "      <td>2025/05</td>\n",
       "      <td>NaN</td>\n",
       "      <td>NaN</td>\n",
       "      <td>NaN</td>\n",
       "      <td>NaN</td>\n",
       "    </tr>\n",
       "    <tr>\n",
       "      <th>888988</th>\n",
       "      <td>2596088</td>\n",
       "      <td>SAO PAULO</td>\n",
       "      <td>VIAS MUNICIPAIS</td>\n",
       "      <td>NaN</td>\n",
       "      <td>FEMININO</td>\n",
       "      <td>40.0</td>\n",
       "      <td>NaT</td>\n",
       "      <td>NAO DISPONIVEL</td>\n",
       "      <td>CONDUTOR</td>\n",
       "      <td>40 a 44</td>\n",
       "      <td>40-44</td>\n",
       "      <td>MILITAR NA ATIVA</td>\n",
       "      <td>2025-05-31</td>\n",
       "      <td>2025</td>\n",
       "      <td>5</td>\n",
       "      <td>31</td>\n",
       "      <td>2025/05</td>\n",
       "      <td>NaN</td>\n",
       "      <td>NaN</td>\n",
       "      <td>NaN</td>\n",
       "      <td>NaN</td>\n",
       "    </tr>\n",
       "    <tr>\n",
       "      <th>888989</th>\n",
       "      <td>2596982</td>\n",
       "      <td>SAO PAULO</td>\n",
       "      <td>VIAS MUNICIPAIS</td>\n",
       "      <td>NaN</td>\n",
       "      <td>FEMININO</td>\n",
       "      <td>42.0</td>\n",
       "      <td>NaT</td>\n",
       "      <td>LEVE</td>\n",
       "      <td>NAO DISPONIVEL</td>\n",
       "      <td>40 a 44</td>\n",
       "      <td>40-44</td>\n",
       "      <td>VENDEDOR(A)</td>\n",
       "      <td>2025-05-31</td>\n",
       "      <td>2025</td>\n",
       "      <td>5</td>\n",
       "      <td>31</td>\n",
       "      <td>2025/05</td>\n",
       "      <td>NaN</td>\n",
       "      <td>NaN</td>\n",
       "      <td>NaN</td>\n",
       "      <td>NaN</td>\n",
       "    </tr>\n",
       "    <tr>\n",
       "      <th>888990</th>\n",
       "      <td>2602909</td>\n",
       "      <td>TEODORO SAMPAIO</td>\n",
       "      <td>VIAS MUNICIPAIS</td>\n",
       "      <td>NaN</td>\n",
       "      <td>FEMININO</td>\n",
       "      <td>53.0</td>\n",
       "      <td>NaT</td>\n",
       "      <td>LEVE</td>\n",
       "      <td>CONDUTOR</td>\n",
       "      <td>50 a 54</td>\n",
       "      <td>50-54</td>\n",
       "      <td>ASSISTENTE SOCIAL</td>\n",
       "      <td>2025-05-31</td>\n",
       "      <td>2025</td>\n",
       "      <td>5</td>\n",
       "      <td>31</td>\n",
       "      <td>2025/05</td>\n",
       "      <td>NaN</td>\n",
       "      <td>NaN</td>\n",
       "      <td>NaN</td>\n",
       "      <td>NaN</td>\n",
       "    </tr>\n",
       "    <tr>\n",
       "      <th>888991</th>\n",
       "      <td>2600028</td>\n",
       "      <td>MOGI DAS CRUZES</td>\n",
       "      <td>VIAS MUNICIPAIS</td>\n",
       "      <td>NaN</td>\n",
       "      <td>FEMININO</td>\n",
       "      <td>37.0</td>\n",
       "      <td>NaT</td>\n",
       "      <td>NAO DISPONIVEL</td>\n",
       "      <td>CONDUTOR</td>\n",
       "      <td>35 a 39</td>\n",
       "      <td>35-39</td>\n",
       "      <td>DO LAR</td>\n",
       "      <td>2025-05-31</td>\n",
       "      <td>2025</td>\n",
       "      <td>5</td>\n",
       "      <td>31</td>\n",
       "      <td>2025/05</td>\n",
       "      <td>NaN</td>\n",
       "      <td>NaN</td>\n",
       "      <td>NaN</td>\n",
       "      <td>NaN</td>\n",
       "    </tr>\n",
       "  </tbody>\n",
       "</table>\n",
       "<p>888992 rows × 21 columns</p>\n",
       "</div>"
      ],
      "text/plain": [
       "        id_sinistro        municipio         tipo_via tipo_veiculo_vitima  \\\n",
       "0           1819301          ORIENTE         RODOVIAS                 NaN   \n",
       "1           1473586    ILHA COMPRIDA  VIAS MUNICIPAIS                 NaN   \n",
       "2           1556174        IGARAPAVA         RODOVIAS                 NaN   \n",
       "3           1538224        SAO PAULO  VIAS MUNICIPAIS                 NaN   \n",
       "4           1904878             LEME  VIAS MUNICIPAIS                 NaN   \n",
       "...             ...              ...              ...                 ...   \n",
       "888987      2608847          ITAPIRA  VIAS MUNICIPAIS                 NaN   \n",
       "888988      2596088        SAO PAULO  VIAS MUNICIPAIS                 NaN   \n",
       "888989      2596982        SAO PAULO  VIAS MUNICIPAIS                 NaN   \n",
       "888990      2602909  TEODORO SAMPAIO  VIAS MUNICIPAIS                 NaN   \n",
       "888991      2600028  MOGI DAS CRUZES  VIAS MUNICIPAIS                 NaN   \n",
       "\n",
       "             sexo  idade data_obito gravidade_lesao  tipo_de vítima  \\\n",
       "0       MASCULINO   35.0        NaT            LEVE        CONDUTOR   \n",
       "1       MASCULINO   43.0        NaT  NAO DISPONIVEL        CONDUTOR   \n",
       "2        FEMININO   27.0        NaT            LEVE        CONDUTOR   \n",
       "3       MASCULINO   20.0        NaT  NAO DISPONIVEL  NAO DISPONIVEL   \n",
       "4       MASCULINO   44.0        NaT           GRAVE  NAO DISPONIVEL   \n",
       "...           ...    ...        ...             ...             ...   \n",
       "888987  MASCULINO   31.0        NaT  NAO DISPONIVEL        CONDUTOR   \n",
       "888988   FEMININO   40.0        NaT  NAO DISPONIVEL        CONDUTOR   \n",
       "888989   FEMININO   42.0        NaT            LEVE  NAO DISPONIVEL   \n",
       "888990   FEMININO   53.0        NaT            LEVE        CONDUTOR   \n",
       "888991   FEMININO   37.0        NaT  NAO DISPONIVEL        CONDUTOR   \n",
       "\n",
       "       faixa_etaria_demografica faixa_etaria_legal          profissao  \\\n",
       "0                       35 a 39              35-39         CONFERENTE   \n",
       "1                       40 a 44              40-44          ATENDENTE   \n",
       "2                       25 a 29              25-29       BIOMEDICO(A)   \n",
       "3                       20 a 24              18-24                NaN   \n",
       "4                       40 a 44              40-44          SEGURANCA   \n",
       "...                         ...                ...                ...   \n",
       "888987                  30 a 34              30-34          MOTORISTA   \n",
       "888988                  40 a 44              40-44   MILITAR NA ATIVA   \n",
       "888989                  40 a 44              40-44        VENDEDOR(A)   \n",
       "888990                  50 a 54              50-54  ASSISTENTE SOCIAL   \n",
       "888991                  35 a 39              35-39             DO LAR   \n",
       "\n",
       "       data_sinistro  ano_sinistro  mes_sinistro  dia_sinistro  \\\n",
       "0         2022-01-01          2022             1             1   \n",
       "1         2022-01-01          2022             1             1   \n",
       "2         2022-01-01          2022             1             1   \n",
       "3         2022-01-01          2022             1             1   \n",
       "4         2022-01-01          2022             1             1   \n",
       "...              ...           ...           ...           ...   \n",
       "888987    2025-05-31          2025             5            31   \n",
       "888988    2025-05-31          2025             5            31   \n",
       "888989    2025-05-31          2025             5            31   \n",
       "888990    2025-05-31          2025             5            31   \n",
       "888991    2025-05-31          2025             5            31   \n",
       "\n",
       "       ano_mes_sinistro  ano_obito  mes_obito  dia_obito ano_mes_obito  \n",
       "0               2022/01        NaN        NaN        NaN           NaN  \n",
       "1               2022/01        NaN        NaN        NaN           NaN  \n",
       "2               2022/01        NaN        NaN        NaN           NaN  \n",
       "3               2022/01        NaN        NaN        NaN           NaN  \n",
       "4               2022/01        NaN        NaN        NaN           NaN  \n",
       "...                 ...        ...        ...        ...           ...  \n",
       "888987          2025/05        NaN        NaN        NaN           NaN  \n",
       "888988          2025/05        NaN        NaN        NaN           NaN  \n",
       "888989          2025/05        NaN        NaN        NaN           NaN  \n",
       "888990          2025/05        NaN        NaN        NaN           NaN  \n",
       "888991          2025/05        NaN        NaN        NaN           NaN  \n",
       "\n",
       "[888992 rows x 21 columns]"
      ]
     },
     "execution_count": 38,
     "metadata": {},
     "output_type": "execute_result"
    }
   ],
   "source": [
    "df_pessoas"
   ]
  },
  {
   "cell_type": "code",
   "execution_count": 39,
   "id": "f96fecf8",
   "metadata": {},
   "outputs": [
    {
     "name": "stdout",
     "output_type": "stream",
     "text": [
      "97.81%\n"
     ]
    }
   ],
   "source": [
    "def percentual_nulos(df, coluna):\n",
    "    return df[coluna].isna().mean() * 100\n",
    "\n",
    "# Exemplo de uso:\n",
    "percentual = percentual_nulos(df_pessoas, 'tipo_veiculo_vitima')\n",
    "print(f\"{percentual:.2f}%\")\n"
   ]
  },
  {
   "cell_type": "code",
   "execution_count": 40,
   "id": "4eb2255a",
   "metadata": {},
   "outputs": [],
   "source": [
    "df_pessoas = df_pessoas.drop(columns={\n",
    "    'ano_sinistro',\n",
    "    'mes_sinistro',\n",
    "    'dia_sinistro',\n",
    "    'ano_mes_sinistro',\n",
    "    'ano_obito',\n",
    "    'mes_obito',\n",
    "    'dia_obito',\n",
    "    'ano_mes_obito',\n",
    "    'tipo_veiculo_vitima'\n",
    "})"
   ]
  },
  {
   "cell_type": "code",
   "execution_count": 41,
   "id": "d6342f0f",
   "metadata": {},
   "outputs": [
    {
     "data": {
      "text/plain": [
       "gravidade_lesao\n",
       "NAO DISPONIVEL    426087\n",
       "LEVE              398082\n",
       "GRAVE              45332\n",
       "FATAL              19491\n",
       "Name: count, dtype: int64"
      ]
     },
     "execution_count": 41,
     "metadata": {},
     "output_type": "execute_result"
    }
   ],
   "source": [
    "df_pessoas.gravidade_lesao.value_counts()"
   ]
  },
  {
   "cell_type": "code",
   "execution_count": 42,
   "id": "6719a0ea",
   "metadata": {},
   "outputs": [],
   "source": [
    "df_pessoas = df_pessoas.drop(columns='gravidade_lesao')\n",
    "\n",
    "# A coluna foi removida pois apresenta um alto percentual de valores não disponíveis.\n",
    "# Além disso, a mesma coluna se encontra na base de sinistros com menos valores faltantes.\n",
    "\n",
    "# The column was removed due to a high percentage of unavailable values.\n",
    "# Additionally, the same column is present in the accidents dataset with fewer missing values.\n"
   ]
  },
  {
   "cell_type": "code",
   "execution_count": 43,
   "id": "68172899",
   "metadata": {},
   "outputs": [
    {
     "data": {
      "text/plain": [
       "tipo_de vítima\n",
       "NAO DISPONIVEL    431776\n",
       "CONDUTOR          421046\n",
       "PEDESTRE            4475\n",
       "PASSAGEIRO          2198\n",
       "Name: count, dtype: int64"
      ]
     },
     "execution_count": 43,
     "metadata": {},
     "output_type": "execute_result"
    }
   ],
   "source": [
    "df_pessoas['tipo_de vítima'].value_counts()"
   ]
  },
  {
   "cell_type": "code",
   "execution_count": 44,
   "id": "f07150c6",
   "metadata": {},
   "outputs": [],
   "source": [
    "df_pessoas['tipo_de vítima'] = df_pessoas['tipo_de vítima'].str.title()"
   ]
  },
  {
   "cell_type": "code",
   "execution_count": 45,
   "id": "fb83c12d",
   "metadata": {},
   "outputs": [],
   "source": [
    "df_pessoas['tipo_de vítima'] = df_pessoas['tipo_de vítima'].replace(\"Nao Disponivel\", None)"
   ]
  },
  {
   "cell_type": "code",
   "execution_count": 46,
   "id": "19ff5f18",
   "metadata": {},
   "outputs": [
    {
     "data": {
      "text/plain": [
       "tipo_via\n",
       "VIAS MUNICIPAIS    737218\n",
       "RODOVIAS           150619\n",
       "NAO DISPONIVEL       1155\n",
       "Name: count, dtype: int64"
      ]
     },
     "execution_count": 46,
     "metadata": {},
     "output_type": "execute_result"
    }
   ],
   "source": [
    "df_pessoas.tipo_via.value_counts()"
   ]
  },
  {
   "cell_type": "code",
   "execution_count": 47,
   "id": "35ed7bed",
   "metadata": {},
   "outputs": [],
   "source": [
    "df_pessoas.tipo_via = df_pessoas.tipo_via.str.title()"
   ]
  },
  {
   "cell_type": "code",
   "execution_count": 48,
   "id": "20b825e4",
   "metadata": {},
   "outputs": [],
   "source": [
    "df_pessoas.tipo_via = df_pessoas.tipo_via.replace(\"Nao Disponivel\", None)"
   ]
  },
  {
   "cell_type": "code",
   "execution_count": 49,
   "id": "77e33583",
   "metadata": {},
   "outputs": [
    {
     "data": {
      "text/plain": [
       "municipio\n",
       "SAO PAULO                208281\n",
       "RIBEIRAO PRETO            22575\n",
       "CAMPINAS                  22071\n",
       "GUARULHOS                 21543\n",
       "SAO JOSE DO RIO PRETO     17788\n",
       "                          ...  \n",
       "FLORA RICA                   11\n",
       "NOVA CASTILHO                 8\n",
       "SAO JOAO DE IRACEMA           8\n",
       "RIBEIRAO DOS INDIOS           8\n",
       "URU                           3\n",
       "Name: count, Length: 645, dtype: int64"
      ]
     },
     "execution_count": 49,
     "metadata": {},
     "output_type": "execute_result"
    }
   ],
   "source": [
    "df_pessoas.municipio.value_counts()"
   ]
  },
  {
   "cell_type": "code",
   "execution_count": 50,
   "id": "643ba7d7",
   "metadata": {},
   "outputs": [],
   "source": [
    "df_pessoas.municipio = df_pessoas.municipio.str.title()"
   ]
  },
  {
   "cell_type": "code",
   "execution_count": 51,
   "id": "b0bc6819",
   "metadata": {},
   "outputs": [
    {
     "data": {
      "text/plain": [
       "profissao\n",
       "MOTORISTA                       80151\n",
       "AUTONOMO(A)                     52666\n",
       "MOTO-BOY                        47247\n",
       "APOSENTADO(A)                   41536\n",
       "ESTUDANTE                       33437\n",
       "                                ...  \n",
       "Supervisor(a) compras/vendas        1\n",
       "Consultor tecnico                   1\n",
       "Montador de moveis madeira          1\n",
       "Tecnico em radiologia               1\n",
       "Topografo(a)                        1\n",
       "Name: count, Length: 861, dtype: int64"
      ]
     },
     "execution_count": 51,
     "metadata": {},
     "output_type": "execute_result"
    }
   ],
   "source": [
    "df_pessoas.profissao.value_counts()"
   ]
  },
  {
   "cell_type": "code",
   "execution_count": 52,
   "id": "5cfdd5a1",
   "metadata": {},
   "outputs": [],
   "source": [
    "df_pessoas.profissao = df_pessoas.profissao.str.title()"
   ]
  },
  {
   "cell_type": "code",
   "execution_count": 53,
   "id": "0b353b6a",
   "metadata": {},
   "outputs": [
    {
     "data": {
      "text/plain": [
       "sexo\n",
       "MASCULINO         638050\n",
       "FEMININO          249350\n",
       "NAO DISPONIVEL      1592\n",
       "Name: count, dtype: int64"
      ]
     },
     "execution_count": 53,
     "metadata": {},
     "output_type": "execute_result"
    }
   ],
   "source": [
    "df_pessoas.sexo.value_counts()"
   ]
  },
  {
   "cell_type": "code",
   "execution_count": 54,
   "id": "910306bb",
   "metadata": {},
   "outputs": [],
   "source": [
    "df_pessoas.sexo = df_pessoas.sexo.str.title()"
   ]
  },
  {
   "cell_type": "code",
   "execution_count": 55,
   "id": "7874f701",
   "metadata": {},
   "outputs": [],
   "source": [
    "df_pessoas.sexo = df_pessoas.sexo.replace(\"Nao Disponivel\", None)"
   ]
  },
  {
   "cell_type": "code",
   "execution_count": 56,
   "id": "5a2b3b4d",
   "metadata": {},
   "outputs": [
    {
     "data": {
      "text/plain": [
       "id_sinistro                          int64\n",
       "municipio                           object\n",
       "tipo_via                            object\n",
       "sexo                                object\n",
       "idade                              float64\n",
       "data_obito                  datetime64[ns]\n",
       "tipo_de vítima                      object\n",
       "faixa_etaria_demografica            object\n",
       "faixa_etaria_legal                  object\n",
       "profissao                           object\n",
       "data_sinistro               datetime64[ns]\n",
       "dtype: object"
      ]
     },
     "execution_count": 56,
     "metadata": {},
     "output_type": "execute_result"
    }
   ],
   "source": [
    "df_pessoas.dtypes"
   ]
  },
  {
   "cell_type": "code",
   "execution_count": 57,
   "id": "fc77033d",
   "metadata": {},
   "outputs": [],
   "source": [
    "df_pessoas.idade = df_pessoas.idade.astype('Int64')"
   ]
  },
  {
   "cell_type": "code",
   "execution_count": 58,
   "id": "c21d7d87",
   "metadata": {},
   "outputs": [],
   "source": [
    "#df_pessoas.to_excel(\"pessoas.xlsx\")"
   ]
  }
 ],
 "metadata": {
  "kernelspec": {
   "display_name": "Python 3",
   "language": "python",
   "name": "python3"
  },
  "language_info": {
   "codemirror_mode": {
    "name": "ipython",
    "version": 3
   },
   "file_extension": ".py",
   "mimetype": "text/x-python",
   "name": "python",
   "nbconvert_exporter": "python",
   "pygments_lexer": "ipython3",
   "version": "3.11.9"
  }
 },
 "nbformat": 4,
 "nbformat_minor": 5
}
