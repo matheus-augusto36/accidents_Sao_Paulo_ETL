{
 "cells": [
  {
   "cell_type": "code",
   "execution_count": 11,
   "id": "b963b7ba",
   "metadata": {},
   "outputs": [],
   "source": [
    "import pandas as pd"
   ]
  },
  {
   "cell_type": "code",
   "execution_count": 12,
   "id": "e6213ece",
   "metadata": {},
   "outputs": [],
   "source": [
    "pd.set_option('display.max_columns', None)"
   ]
  },
  {
   "cell_type": "code",
   "execution_count": 13,
   "id": "6712f2aa",
   "metadata": {},
   "outputs": [],
   "source": [
    "def percentual_valor(df, coluna, valor):\n",
    "    total = len(df[coluna])\n",
    "    ocorrencias = (df[coluna] == valor).sum()\n",
    "    percentual = (ocorrencias / total) * 100\n",
    "    return round(percentual, 2)\n"
   ]
  },
  {
   "cell_type": "code",
   "execution_count": 14,
   "id": "ac609012",
   "metadata": {},
   "outputs": [],
   "source": [
    "df_veiculos = pd.read_excel('../Formato Novo/veiculos_2022-2025.xlsx')"
   ]
  },
  {
   "cell_type": "code",
   "execution_count": 15,
   "id": "ff951626",
   "metadata": {},
   "outputs": [
    {
     "data": {
      "text/plain": [
       "tipo_veiculo\n",
       "AUTOMOVEL         320453\n",
       "MOTOCICLETA       275146\n",
       "NAO DISPONIVEL     96020\n",
       "CAMINHAO           27675\n",
       "OUTROS             21389\n",
       "ONIBUS             16549\n",
       "BICICLETA            389\n",
       "Name: count, dtype: int64"
      ]
     },
     "execution_count": 15,
     "metadata": {},
     "output_type": "execute_result"
    }
   ],
   "source": [
    "df_veiculos.tipo_veiculo.value_counts()"
   ]
  },
  {
   "cell_type": "code",
   "execution_count": 16,
   "id": "1ccc79d2",
   "metadata": {},
   "outputs": [
    {
     "name": "stdout",
     "output_type": "stream",
     "text": [
      "12.67%\n"
     ]
    }
   ],
   "source": [
    "percentual = percentual_valor(df_veiculos, 'tipo_veiculo', 'NAO DISPONIVEL')\n",
    "print(f\"{percentual:.2f}%\")\n"
   ]
  },
  {
   "cell_type": "code",
   "execution_count": null,
   "id": "749c10c2",
   "metadata": {},
   "outputs": [],
   "source": [
    "df_veiculos = df_veiculos.drop(columns={'tipo_veiculo'})\n",
    "\n",
    "# A coluna foi removida pois apresenta um percentual razoável de valores não disponíveis.\n",
    "# Além disso, a mesma coluna se encontra na base de sinistros com menos valores faltantes.\n",
    "\n",
    "# The column was removed due to a considerable percentage of unavailable values.\n",
    "# Additionally, the same column is present in the accidents dataset with fewer missing values.\n"
   ]
  },
  {
   "cell_type": "code",
   "execution_count": 17,
   "id": "883252ac",
   "metadata": {},
   "outputs": [
    {
     "data": {
      "text/plain": [
       "cor_veiculo\n",
       "PRETA                   153996\n",
       "BRANCA                  121322\n",
       "PRATA                   112302\n",
       "VERMELHA                 85629\n",
       "CINZA                    65173\n",
       "AZUL                     42936\n",
       "VERDE                    12290\n",
       "AMARELA                   6952\n",
       "Branco                    5816\n",
       "Preta                     5125\n",
       "BEGE                      4387\n",
       "Prata                     3855\n",
       "Vermelho                  3005\n",
       "LARANJA                   2525\n",
       "Cinza                     2246\n",
       "MARROM                    2076\n",
       "Azul                      1925\n",
       "ROXA                      1863\n",
       "FANTASIA                   989\n",
       "DOURADA                    981\n",
       "Verde                      593\n",
       "ROSA                       569\n",
       "Amarelo                    415\n",
       "VERMELHA/PRETA             193\n",
       "Bege                       167\n",
       "Laranja                    141\n",
       "BRANCA (PADRAO PM)         129\n",
       "GRENA                      118\n",
       "BRANCA/VERMELHA             90\n",
       "BRANCA (PADRAO CPAMB        77\n",
       "Roxa                        71\n",
       "Marrom                      71\n",
       "CINZA BANDEIRANTE           61\n",
       "Fantasia                    56\n",
       "CIN/VER/PRE                 54\n",
       "BRANCA/CINZA ESCURO         34\n",
       "Dourada                     33\n",
       "Não Informado               32\n",
       "BRANCA (PADRAO CPRV)        25\n",
       "CINZA PM (PADRAO ROT        23\n",
       "BRANCA PADRAO CPTRAN        20\n",
       "BRANCA/CINZA BANDEIR        15\n",
       "Rosa                        14\n",
       "SEM IDENTIFICAÇÃO           11\n",
       "Grena                        7\n",
       "CAMUFLADO URBANO             3\n",
       "CAMUFLADO RURAL              2\n",
       "Name: count, dtype: int64"
      ]
     },
     "execution_count": 17,
     "metadata": {},
     "output_type": "execute_result"
    }
   ],
   "source": [
    "df_veiculos.cor_veiculo.value_counts()"
   ]
  },
  {
   "cell_type": "code",
   "execution_count": 18,
   "id": "1ea655c8",
   "metadata": {},
   "outputs": [],
   "source": [
    "df_veiculos.cor_veiculo = df_veiculos.cor_veiculo.str.title()"
   ]
  },
  {
   "cell_type": "code",
   "execution_count": 19,
   "id": "c307d40f",
   "metadata": {},
   "outputs": [],
   "source": [
    "df_veiculos = df_veiculos.drop(columns={\n",
    "    'ano_sinistro',\n",
    "    'mes_sinistro',\n",
    "    'dia_sinistro',\n",
    "    'ano_mes_sinistro'\n",
    "})"
   ]
  },
  {
   "cell_type": "code",
   "execution_count": 20,
   "id": "e9a4011d",
   "metadata": {},
   "outputs": [
    {
     "data": {
      "text/html": [
       "<div>\n",
       "<style scoped>\n",
       "    .dataframe tbody tr th:only-of-type {\n",
       "        vertical-align: middle;\n",
       "    }\n",
       "\n",
       "    .dataframe tbody tr th {\n",
       "        vertical-align: top;\n",
       "    }\n",
       "\n",
       "    .dataframe thead th {\n",
       "        text-align: right;\n",
       "    }\n",
       "</style>\n",
       "<table border=\"1\" class=\"dataframe\">\n",
       "  <thead>\n",
       "    <tr style=\"text-align: right;\">\n",
       "      <th></th>\n",
       "      <th>id_sinistro</th>\n",
       "      <th>ano_fab</th>\n",
       "      <th>ano_modelo</th>\n",
       "      <th>cor_veiculo</th>\n",
       "      <th>data_sinistro</th>\n",
       "      <th>tipo_veiculo</th>\n",
       "    </tr>\n",
       "  </thead>\n",
       "  <tbody>\n",
       "    <tr>\n",
       "      <th>0</th>\n",
       "      <td>2264832</td>\n",
       "      <td>0.0</td>\n",
       "      <td>0.0</td>\n",
       "      <td>NaN</td>\n",
       "      <td>2022-01-01</td>\n",
       "      <td>NAO DISPONIVEL</td>\n",
       "    </tr>\n",
       "    <tr>\n",
       "      <th>1</th>\n",
       "      <td>1820312</td>\n",
       "      <td>0.0</td>\n",
       "      <td>0.0</td>\n",
       "      <td>NaN</td>\n",
       "      <td>2022-01-01</td>\n",
       "      <td>NAO DISPONIVEL</td>\n",
       "    </tr>\n",
       "    <tr>\n",
       "      <th>2</th>\n",
       "      <td>1948466</td>\n",
       "      <td>0.0</td>\n",
       "      <td>0.0</td>\n",
       "      <td>NaN</td>\n",
       "      <td>2022-01-01</td>\n",
       "      <td>NAO DISPONIVEL</td>\n",
       "    </tr>\n",
       "    <tr>\n",
       "      <th>3</th>\n",
       "      <td>1334206</td>\n",
       "      <td>2015.0</td>\n",
       "      <td>2016.0</td>\n",
       "      <td>Marrom</td>\n",
       "      <td>2022-01-01</td>\n",
       "      <td>AUTOMOVEL</td>\n",
       "    </tr>\n",
       "    <tr>\n",
       "      <th>4</th>\n",
       "      <td>1510855</td>\n",
       "      <td>2016.0</td>\n",
       "      <td>2016.0</td>\n",
       "      <td>Cinza</td>\n",
       "      <td>2022-01-01</td>\n",
       "      <td>AUTOMOVEL</td>\n",
       "    </tr>\n",
       "    <tr>\n",
       "      <th>...</th>\n",
       "      <td>...</td>\n",
       "      <td>...</td>\n",
       "      <td>...</td>\n",
       "      <td>...</td>\n",
       "      <td>...</td>\n",
       "      <td>...</td>\n",
       "    </tr>\n",
       "    <tr>\n",
       "      <th>757616</th>\n",
       "      <td>2607776</td>\n",
       "      <td>NaN</td>\n",
       "      <td>NaN</td>\n",
       "      <td>NaN</td>\n",
       "      <td>2025-05-31</td>\n",
       "      <td>AUTOMOVEL</td>\n",
       "    </tr>\n",
       "    <tr>\n",
       "      <th>757617</th>\n",
       "      <td>2608697</td>\n",
       "      <td>2013.0</td>\n",
       "      <td>2013.0</td>\n",
       "      <td>Prata</td>\n",
       "      <td>2025-05-31</td>\n",
       "      <td>AUTOMOVEL</td>\n",
       "    </tr>\n",
       "    <tr>\n",
       "      <th>757618</th>\n",
       "      <td>2608031</td>\n",
       "      <td>2009.0</td>\n",
       "      <td>2010.0</td>\n",
       "      <td>Prata</td>\n",
       "      <td>2025-05-31</td>\n",
       "      <td>AUTOMOVEL</td>\n",
       "    </tr>\n",
       "    <tr>\n",
       "      <th>757619</th>\n",
       "      <td>2610195</td>\n",
       "      <td>2022.0</td>\n",
       "      <td>2023.0</td>\n",
       "      <td>Bege</td>\n",
       "      <td>2025-05-31</td>\n",
       "      <td>MOTOCICLETA</td>\n",
       "    </tr>\n",
       "    <tr>\n",
       "      <th>757620</th>\n",
       "      <td>2610195</td>\n",
       "      <td>2024.0</td>\n",
       "      <td>2025.0</td>\n",
       "      <td>Laranja</td>\n",
       "      <td>2025-05-31</td>\n",
       "      <td>AUTOMOVEL</td>\n",
       "    </tr>\n",
       "  </tbody>\n",
       "</table>\n",
       "<p>757621 rows × 6 columns</p>\n",
       "</div>"
      ],
      "text/plain": [
       "        id_sinistro  ano_fab  ano_modelo cor_veiculo data_sinistro  \\\n",
       "0           2264832      0.0         0.0         NaN    2022-01-01   \n",
       "1           1820312      0.0         0.0         NaN    2022-01-01   \n",
       "2           1948466      0.0         0.0         NaN    2022-01-01   \n",
       "3           1334206   2015.0      2016.0      Marrom    2022-01-01   \n",
       "4           1510855   2016.0      2016.0       Cinza    2022-01-01   \n",
       "...             ...      ...         ...         ...           ...   \n",
       "757616      2607776      NaN         NaN         NaN    2025-05-31   \n",
       "757617      2608697   2013.0      2013.0       Prata    2025-05-31   \n",
       "757618      2608031   2009.0      2010.0       Prata    2025-05-31   \n",
       "757619      2610195   2022.0      2023.0        Bege    2025-05-31   \n",
       "757620      2610195   2024.0      2025.0     Laranja    2025-05-31   \n",
       "\n",
       "          tipo_veiculo  \n",
       "0       NAO DISPONIVEL  \n",
       "1       NAO DISPONIVEL  \n",
       "2       NAO DISPONIVEL  \n",
       "3            AUTOMOVEL  \n",
       "4            AUTOMOVEL  \n",
       "...                ...  \n",
       "757616       AUTOMOVEL  \n",
       "757617       AUTOMOVEL  \n",
       "757618       AUTOMOVEL  \n",
       "757619     MOTOCICLETA  \n",
       "757620       AUTOMOVEL  \n",
       "\n",
       "[757621 rows x 6 columns]"
      ]
     },
     "execution_count": 20,
     "metadata": {},
     "output_type": "execute_result"
    }
   ],
   "source": [
    "df_veiculos"
   ]
  },
  {
   "cell_type": "code",
   "execution_count": 21,
   "id": "434aa4d2",
   "metadata": {},
   "outputs": [],
   "source": [
    "#df_veiculos.to_excel(\"veiculos.xlsx\")"
   ]
  }
 ],
 "metadata": {
  "kernelspec": {
   "display_name": "Python 3",
   "language": "python",
   "name": "python3"
  },
  "language_info": {
   "codemirror_mode": {
    "name": "ipython",
    "version": 3
   },
   "file_extension": ".py",
   "mimetype": "text/x-python",
   "name": "python",
   "nbconvert_exporter": "python",
   "pygments_lexer": "ipython3",
   "version": "3.11.9"
  }
 },
 "nbformat": 4,
 "nbformat_minor": 5
}
